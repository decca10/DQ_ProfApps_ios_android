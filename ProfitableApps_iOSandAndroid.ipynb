{
 "cells": [
  {
   "cell_type": "markdown",
   "metadata": {},
   "source": [
    "# Using apps to attract users\n",
    "\n",
    "This project is intended to show what type of apps most users prefer.  The goal is to create a frequency table of the most downloaded apps by their type in order to attract users to more profitable apps.  Some things to be noted:\n",
    "\n",
    "1. The dataset presented here is for the _Apple App Store_ and _Google Play Store_ only, since they are the most   widely used and cover 75% of the apps market.  \n",
    "\n",
    "2. A sample size was used for each market:\n",
    "_Google Play_ sample size [dataset](https://www.kaggle.com/lava18/google-play-store-apps/downloads/google-play-store-apps.zip/6) uses 10,000 Android apps and _Apple App_ sample size [dataset](https://www.kaggle.com/ramamet4/app-store-apple-data-set-10k-apps/home) uses 7,000 iOS apps."
   ]
  },
  {
   "cell_type": "code",
   "execution_count": 48,
   "metadata": {},
   "outputs": [],
   "source": [
    "#Applestore\n",
    "opened_file = open(\"AppleStore.csv\")\n",
    "from csv import reader\n",
    "read_file = reader(opened_file)\n",
    "ios = list(read_file)\n",
    "ios_header = ios[0]\n",
    "ios = ios[1:]\n",
    "\n",
    "#Google Store\n",
    "opened_file = open(\"googleplaystore.csv\")\n",
    "from csv import reader\n",
    "read_file = reader(opened_file)\n",
    "android = list(read_file)\n",
    "android_header = android[0]\n",
    "android = android[1:]\n"
   ]
  },
  {
   "cell_type": "markdown",
   "metadata": {},
   "source": [
    "# Initial analysis of the datasets\n",
    "\n",
    "In our intial, exploratory analysis of the two data sets, we will define a function named explore_data().  This will allow us to view multiple rows in a more readable way.  It will end with an option to view the total number of rows and columns for that data set."
   ]
  },
  {
   "cell_type": "code",
   "execution_count": 2,
   "metadata": {
    "scrolled": true
   },
   "outputs": [],
   "source": [
    "def explore_data(dataset, start, end, rows_and_columns=False):\n",
    "    dataset_slice = dataset[start:end]\n",
    "    for row in dataset_slice:\n",
    "        print(row)\n",
    "        print('\\n')#adds a new empty line\n",
    "    if rows_and_columns:\n",
    "        print('Number of rows: ', len(dataset))\n",
    "        print('Number of columns: ', len(dataset[0]))"
   ]
  },
  {
   "cell_type": "code",
   "execution_count": 3,
   "metadata": {},
   "outputs": [
    {
     "name": "stdout",
     "output_type": "stream",
     "text": [
      "['', 'id', 'track_name', 'size_bytes', 'currency', 'price', 'rating_count_tot', 'rating_count_ver', 'user_rating', 'user_rating_ver', 'ver', 'cont_rating', 'prime_genre', 'sup_devices.num', 'ipadSc_urls.num', 'lang.num', 'vpp_lic']\n",
      "\n",
      "\n",
      "['4', '282614216', 'eBay: Best App to Buy, Sell, Save! Online Shopping', '128512000', 'USD', '0', '262241', '649', '4', '4.5', '5.10.0', '12+', 'Shopping', '37', '5', '9', '1']\n",
      "\n",
      "\n",
      "['5', '282935706', 'Bible', '92774400', 'USD', '0', '985920', '5320', '4.5', '5', '7.5.1', '4+', 'Reference', '37', '5', '45', '1']\n",
      "\n",
      "\n",
      "['6', '283619399', 'Shanghai Mahjong', '10485713', 'USD', '0.99', '8253', '5516', '4', '4', '1.8', '4+', 'Games', '47', '5', '1', '1']\n",
      "\n",
      "\n",
      "Number of rows:  7197\n",
      "Number of columns:  17\n"
     ]
    }
   ],
   "source": [
    "#Apple store data\n",
    "print(ios_header)\n",
    "print('\\n')\n",
    "explore_data(ios,3,6, True)"
   ]
  },
  {
   "cell_type": "markdown",
   "metadata": {},
   "source": [
    "We see that the Apple Store data set has 7,197 apps and 17 columns.  At a quick glance, the columns that might be useful for our analysis are: `track_name`, `price`, `currency`, `prime_genre`, `rating_count_tot` (rating count total for all versions) and `rating_count_ver` (the rating count for the current version).  More information about the column names can be found [here](https://www.kaggle.com/ramamet4/app-store-apple-data-set-10k-apps/home)."
   ]
  },
  {
   "cell_type": "code",
   "execution_count": 4,
   "metadata": {},
   "outputs": [
    {
     "name": "stdout",
     "output_type": "stream",
     "text": [
      "['App', 'Category', 'Rating', 'Reviews', 'Size', 'Installs', 'Type', 'Price', 'Content Rating', 'Genres', 'Last Updated', 'Current Ver', 'Android Ver']\n",
      "\n",
      "\n",
      "['Sketch - Draw & Paint', 'ART_AND_DESIGN', '4.5', '215644', '25M', '50,000,000+', 'Free', '0', 'Teen', 'Art & Design', 'June 8, 2018', 'Varies with device', '4.2 and up']\n",
      "\n",
      "\n",
      "['Pixel Draw - Number Art Coloring Book', 'ART_AND_DESIGN', '4.3', '967', '2.8M', '100,000+', 'Free', '0', 'Everyone', 'Art & Design;Creativity', 'June 20, 2018', '1.1', '4.4 and up']\n",
      "\n",
      "\n",
      "['Paper flowers instructions', 'ART_AND_DESIGN', '4.4', '167', '5.6M', '50,000+', 'Free', '0', 'Everyone', 'Art & Design', 'March 26, 2017', '1.0', '2.3 and up']\n",
      "\n",
      "\n",
      "Number of rows:  10841\n",
      "Number of columns:  13\n"
     ]
    }
   ],
   "source": [
    "#Google Play data\n",
    "print(android_header)\n",
    "print('\\n')\n",
    "explore_data(android,3,6,True)"
   ]
  },
  {
   "cell_type": "markdown",
   "metadata": {},
   "source": [
    "We can see that the Google Play dataset has 10,841 rows and 13 columns. The columns that will probably be most useful for our analysis will be `App`, `Category`, `Reviews`, `Installs`, `Type`, `Price` and `Genres`."
   ]
  },
  {
   "cell_type": "markdown",
   "metadata": {},
   "source": [
    "# Cleanup & Deletion\n",
    "\n",
    "The Google Play dataset has a dedicated [discussion section](https://www.kaggle.com/lava18/google-play-store-apps/discussion).  We can see by one of the [discussion topics](https://www.kaggle.com/lava18/google-play-store-apps/discussion/66015), that there is an outlier error for row 10472.  Let's print this row and compare it against the header and another row that is correct.\n"
   ]
  },
  {
   "cell_type": "code",
   "execution_count": 5,
   "metadata": {
    "scrolled": true
   },
   "outputs": [
    {
     "name": "stdout",
     "output_type": "stream",
     "text": [
      "['App', 'Category', 'Rating', 'Reviews', 'Size', 'Installs', 'Type', 'Price', 'Content Rating', 'Genres', 'Last Updated', 'Current Ver', 'Android Ver']\n",
      "\n",
      "\n",
      "['Xposed Wi-Fi-Pwd', 'PERSONALIZATION', '3.5', '1042', '404k', '100,000+', 'Free', '0', 'Everyone', 'Personalization', 'August 5, 2014', '3.0.0', '4.0.3 and up']\n",
      "\n",
      "\n",
      "['Life Made WI-Fi Touchscreen Photo Frame', '1.9', '19', '3.0M', '1,000+', 'Free', '0', 'Everyone', '', 'February 11, 2018', '1.0.19', '4.0 and up']\n",
      "\n",
      "\n"
     ]
    }
   ],
   "source": [
    "print (android_header)\n",
    "print('\\n')\n",
    "explore_data(android,10471,10473)"
   ]
  },
  {
   "cell_type": "markdown",
   "metadata": {},
   "source": [
    "We can see that the row of \"Life Made Wi-Fi Touchstone Photo Frame\" is missing it's `category`.  This causes rating to be viewed in the category field and shifts all subsequent values into the wrong columns.  Since we cannot infer a category from the information given, we will delete this record."
   ]
  },
  {
   "cell_type": "code",
   "execution_count": 15,
   "metadata": {},
   "outputs": [
    {
     "name": "stdout",
     "output_type": "stream",
     "text": [
      "10841\n",
      "10840\n"
     ]
    }
   ],
   "source": [
    "#print(len(android))\n",
    "#del android[10472] #only to be run ONCE! \n",
    "#print(len(android))"
   ]
  },
  {
   "cell_type": "markdown",
   "metadata": {},
   "source": [
    "# Cleaning & Duplicates\n",
    "\n",
    "There is [discussion](https://www.kaggle.com/lava18/google-play-store-apps/discussion/67894) in the Google Play data set as to multiple entries for the same app.  We will create a list of duplicates to explore what has happened."
   ]
  },
  {
   "cell_type": "code",
   "execution_count": 16,
   "metadata": {
    "scrolled": true
   },
   "outputs": [
    {
     "name": "stdout",
     "output_type": "stream",
     "text": [
      "Number of duplicate apps:  1181\n",
      "\n",
      "\n",
      "Examples of duplicate apps:  ['Quick PDF Scanner + OCR FREE', 'Box', 'Google My Business', 'ZOOM Cloud Meetings', 'join.me - Simple Meetings', 'Box', 'Zenefits', 'Google Ads', 'Google My Business', 'Slack', 'FreshBooks Classic', 'Insightly CRM', 'QuickBooks Accounting: Invoicing & Expenses', 'HipChat - Chat Built for Teams', 'Xero Accounting Software']\n"
     ]
    }
   ],
   "source": [
    "duplicate_apps =[]\n",
    "unique_apps=[]\n",
    "\n",
    "for app in android:\n",
    "    name = app[0]\n",
    "    if name in unique_apps:\n",
    "        duplicate_apps.append(name)\n",
    "    else:\n",
    "        unique_apps.append(name)\n",
    "\n",
    "print('Number of duplicate apps: ', len(duplicate_apps))\n",
    "print('\\n')\n",
    "print('Examples of duplicate apps: ', duplicate_apps[:15])"
   ]
  },
  {
   "cell_type": "markdown",
   "metadata": {},
   "source": [
    "It seems one reason for duplicates to occur is because of review counts.  The data has been collected at different times and the review count reflects that.  The higher the number of reviews, the more recent the data is.  For this reason, our criteria is to only keep the duplicate with the highest number of reviews while removing the others.  \n",
    "\n",
    "Therefore we will:\n",
    "\n",
    "- Create a dictionary where each key is a unique app name, and the value is the highest number of reviews of that app.\n",
    "- Use that new dictionary to create a new data set, which will only have one entry per app.\n",
    "\n",
    "Let's start with the dictionary:"
   ]
  },
  {
   "cell_type": "code",
   "execution_count": 17,
   "metadata": {},
   "outputs": [
    {
     "name": "stdout",
     "output_type": "stream",
     "text": [
      "Expected length:  9659\n",
      "Actual length:  9659\n"
     ]
    }
   ],
   "source": [
    "reviews_max={}\n",
    "\n",
    "for app in android:\n",
    "    name = app[0]\n",
    "    n_reviews = float(app[3])\n",
    "    \n",
    "    if name in reviews_max and reviews_max[name] < n_reviews:\n",
    "        reviews_max[name] = n_reviews\n",
    "        \n",
    "    elif name not in reviews_max:\n",
    "        reviews_max[name] = n_reviews\n",
    "        \n",
    "print('Expected length: ', len(android) - len(duplicate_apps))\n",
    "print('Actual length: ', len(reviews_max))"
   ]
  },
  {
   "cell_type": "markdown",
   "metadata": {},
   "source": [
    "Now let's remove the duplicates.  Again, we only want to keep the duplicate entry with the highest number of reviews.\n",
    "\n",
    "- We will create two empty lists, android_clean and already_added.\n",
    "- Next we loop through the android data set, and for **each iteration**:\n",
    "    - We isolate the name of the app and the number of reviews\n",
    "    - We add the current row to the android_clean list as well as the app name to the already_cleaned list if:\n",
    "        - The number of reviews of the current app matches the number of reviews of that app as describd in the reviews_max dictionary; AND\n",
    "        - The name of the app doesn't exist in the already_added list.  *(This is needed because for some apps, the highest number of reviews appears more than once as duplicate records.)*"
   ]
  },
  {
   "cell_type": "code",
   "execution_count": 18,
   "metadata": {},
   "outputs": [],
   "source": [
    "android_clean=[]\n",
    "already_added=[]\n",
    "\n",
    "for app in android:\n",
    "    name = app[0]\n",
    "    n_reviews = float(app[3])\n",
    "    \n",
    "    if (n_reviews == reviews_max[name]) and (name not in already_added):\n",
    "        android_clean.append(app)\n",
    "        already_added.append(name)\n",
    "        "
   ]
  },
  {
   "cell_type": "markdown",
   "metadata": {},
   "source": [
    "Let's explore the data and make sure we get the expected value of 9659.  Which again is expected because it is the length of the original dataset of Android(10840) minus the number of duplicates(1181)."
   ]
  },
  {
   "cell_type": "code",
   "execution_count": 19,
   "metadata": {
    "scrolled": true
   },
   "outputs": [
    {
     "name": "stdout",
     "output_type": "stream",
     "text": [
      "['Pixel Draw - Number Art Coloring Book', 'ART_AND_DESIGN', '4.3', '967', '2.8M', '100,000+', 'Free', '0', 'Everyone', 'Art & Design;Creativity', 'June 20, 2018', '1.1', '4.4 and up']\n",
      "\n",
      "\n",
      "['Paper flowers instructions', 'ART_AND_DESIGN', '4.4', '167', '5.6M', '50,000+', 'Free', '0', 'Everyone', 'Art & Design', 'March 26, 2017', '1.0', '2.3 and up']\n",
      "\n",
      "\n",
      "['Smoke Effect Photo Maker - Smoke Editor', 'ART_AND_DESIGN', '3.8', '178', '19M', '50,000+', 'Free', '0', 'Everyone', 'Art & Design', 'April 26, 2018', '1.1', '4.0.3 and up']\n",
      "\n",
      "\n",
      "Number of rows:  9659\n",
      "Number of columns:  13\n"
     ]
    }
   ],
   "source": [
    "explore_data(android_clean,3,6,True)"
   ]
  },
  {
   "cell_type": "markdown",
   "metadata": {},
   "source": [
    "We have the 9659 as expected."
   ]
  },
  {
   "cell_type": "markdown",
   "metadata": {},
   "source": [
    "# Removing Non-English Apps\n",
    "\n",
    "Our market is for English speaking users. On further examination of the datasets, we see that not all apps are English only apps."
   ]
  },
  {
   "cell_type": "code",
   "execution_count": 24,
   "metadata": {},
   "outputs": [
    {
     "name": "stdout",
     "output_type": "stream",
     "text": [
      "436672029\n",
      "FAMILY\n",
      "中国語 AQリスニング\n",
      "لعبة تقدر تربح DZ\n"
     ]
    }
   ],
   "source": [
    "print(ios[813][1])\n",
    "print(android[6731][1])\n",
    "\n",
    "print(android_clean[4412][0])\n",
    "print(android_clean[7940][0])"
   ]
  },
  {
   "cell_type": "markdown",
   "metadata": {},
   "source": [
    "We're not interested in keeping these kind of apps, so we'll remove them. One way to go about this is to remove each app whose name contains a symbol that is not commonly used in English text — English text usually includes letters from the English alphabet, numbers composed of digits from 0 to 9, punctuation marks (., !, ?, ;, etc.), and other symbols (+, *, /, etc.).\n",
    "\n",
    "All these characters that are specific to English texts are encoded using the ASCII standard. Each ASCII character has a corresponding number between 0 and 127 associated with it, and we can take advantage of that to build a function that checks an app name and tells us whether it contains non-ASCII characters.\n",
    "\n",
    "We built this function below, and we use the built-in ord() function to find out the corresponding encoding number of each character."
   ]
  },
  {
   "cell_type": "code",
   "execution_count": 36,
   "metadata": {},
   "outputs": [
    {
     "name": "stdout",
     "output_type": "stream",
     "text": [
      "True\n",
      "False\n"
     ]
    }
   ],
   "source": [
    "def eng(string):\n",
    "    \n",
    "    for character in string:\n",
    "        if ord(character) > 127:\n",
    "            return False\n",
    "        \n",
    "    return True\n",
    "        \n",
    "print(eng('Instagram'))\n",
    "print(eng('爱奇艺PPS -《欢乐颂2》电视剧热播'))\n"
   ]
  },
  {
   "cell_type": "markdown",
   "metadata": {},
   "source": [
    "Some of the apps in our list use symbols or emojis in their title, though their apps function in English.  These charcaters fall outside of the ASCII range.  Because of this, we'll remove useful apps if we use the function in its current form."
   ]
  },
  {
   "cell_type": "code",
   "execution_count": 39,
   "metadata": {},
   "outputs": [
    {
     "name": "stdout",
     "output_type": "stream",
     "text": [
      "False\n",
      "False\n",
      "8482\n",
      "128540\n"
     ]
    }
   ],
   "source": [
    "print(eng('Docs To Go™ Free Office Suite'))\n",
    "print(eng('Instachat 😜'))\n",
    "\n",
    "print(ord('™'))\n",
    "print(ord('😜'))"
   ]
  },
  {
   "cell_type": "markdown",
   "metadata": {},
   "source": [
    "We will remove an app if it's name contains more than three non-ASCII characters:"
   ]
  },
  {
   "cell_type": "code",
   "execution_count": 41,
   "metadata": {},
   "outputs": [],
   "source": [
    "def eng(string):\n",
    "    non_ascii = 0\n",
    "    \n",
    "    for character in string:\n",
    "        if ord(character) > 127:\n",
    "            non_ascii += 1\n",
    "    \n",
    "    if non_ascii > 3:\n",
    "        return False\n",
    "    else:\n",
    "        return True\n",
    "\n"
   ]
  },
  {
   "cell_type": "markdown",
   "metadata": {},
   "source": [
    "There may be a few non-English apps that get through the cracks, but the chances are so small that it gives us enough English apps to work with for a strong final analysis.  "
   ]
  },
  {
   "cell_type": "code",
   "execution_count": 50,
   "metadata": {},
   "outputs": [
    {
     "name": "stdout",
     "output_type": "stream",
     "text": [
      "['Photo Editor & Candy Camera & Grid & ScrapBook', 'ART_AND_DESIGN', '4.1', '159', '19M', '10,000+', 'Free', '0', 'Everyone', 'Art & Design', 'January 7, 2018', '1.0.0', '4.0.3 and up']\n",
      "\n",
      "\n",
      "['U Launcher Lite – FREE Live Cool Themes, Hide Apps', 'ART_AND_DESIGN', '4.7', '87510', '8.7M', '5,000,000+', 'Free', '0', 'Everyone', 'Art & Design', 'August 1, 2018', '1.2.4', '4.0.3 and up']\n",
      "\n",
      "\n",
      "['Sketch - Draw & Paint', 'ART_AND_DESIGN', '4.5', '215644', '25M', '50,000,000+', 'Free', '0', 'Teen', 'Art & Design', 'June 8, 2018', 'Varies with device', '4.2 and up']\n",
      "\n",
      "\n",
      "Number of rows:  9614\n",
      "Number of columns:  13\n",
      "\n",
      "\n",
      "['1', '281656475', 'PAC-MAN Premium', '100788224', 'USD', '3.99', '21292', '26', '4', '4.5', '6.3.5', '4+', 'Games', '38', '5', '10', '1']\n",
      "\n",
      "\n",
      "['2', '281796108', 'Evernote - stay organized', '158578688', 'USD', '0', '161065', '26', '4', '3.5', '8.2.2', '4+', 'Productivity', '37', '5', '23', '1']\n",
      "\n",
      "\n",
      "['3', '281940292', 'WeatherBug - Local Weather, Radar, Maps, Alerts', '100524032', 'USD', '0', '188583', '2822', '3.5', '4.5', '5.0.0', '4+', 'Weather', '37', '5', '3', '1']\n",
      "\n",
      "\n",
      "Number of rows:  6183\n",
      "Number of columns:  17\n"
     ]
    }
   ],
   "source": [
    "ios_eng = []\n",
    "android_cl_eng = []\n",
    "\n",
    "for app in android_clean:\n",
    "    name = app[0]\n",
    "    if eng(name):\n",
    "        android_cl_eng.append(app)\n",
    "        \n",
    "for app in ios:\n",
    "    name = app[2]\n",
    "    if eng(name):\n",
    "        ios_eng.append(app)\n",
    "        \n",
    "explore_data(android_cl_eng,0,3,True)\n",
    "print('\\n')\n",
    "explore_data(ios_eng,0,3,True)"
   ]
  },
  {
   "cell_type": "markdown",
   "metadata": {},
   "source": [
    "We can see that we are left with 9614 Android apps and 6183 iOS apps."
   ]
  },
  {
   "cell_type": "markdown",
   "metadata": {},
   "source": [
    "# Isolating Free Apps\n",
    "\n",
    "We only build apps that free to download and install, since our main source of revenue is in-app ads.  Therefore, our last cleaning technique is to remove all paid apps from our dataset.  We will do this by isolating only the free apps in both data sets."
   ]
  },
  {
   "cell_type": "code",
   "execution_count": 52,
   "metadata": {},
   "outputs": [
    {
     "name": "stdout",
     "output_type": "stream",
     "text": [
      "iOS is:  3222\n",
      "Android is:  8864\n"
     ]
    }
   ],
   "source": [
    "ios_final = []\n",
    "android_final = []\n",
    "\n",
    "for app in android_cl_eng:\n",
    "    price = app[7]\n",
    "    if price == '0':\n",
    "        android_final.append(app)\n",
    "\n",
    "for app in ios_eng:\n",
    "    price = app[5]\n",
    "    if price == '0':\n",
    "        ios_final.append(app)\n",
    "        \n",
    "print(\"iOS is: \", len(ios_final))\n",
    "print('Android is: ', len(android_final))"
   ]
  },
  {
   "cell_type": "markdown",
   "metadata": {},
   "source": [
    "Our final dataset count for each app store is 3222 for iOS and 8864 for Android.  This is a large enough sample set for our analysis."
   ]
  },
  {
   "cell_type": "markdown",
   "metadata": {},
   "source": [
    "# Analysis: Most Common Apps by Genre\n",
    "\n",
    "Our strategy is to build an app for the Google Store based off of which genre is most popular.  If the app is profitable within 6 months in the Google Store, we will build a version in the Apple Store.  Since the end goal is to have the app profitable in both the Google Play and Apple stores, we will want to find genres that are popular in both markets.  \n",
    "\n",
    "Our first step is to identify which genres are most *common* for each market.  We will do this with a frequency table for the `prime_genre` column in the Apple store, as well as the `Genres` and `Category` columns in the Google Play store.\n",
    "\n",
    "Our frequency table will come in two steps.  The first will be to define a function showing frequencies as a percentage of popularity, and the second function will display those frequencies in descending order.\n"
   ]
  },
  {
   "cell_type": "code",
   "execution_count": 53,
   "metadata": {},
   "outputs": [],
   "source": [
    "def freq_table(dataset,index):\n",
    "    table={}\n",
    "    total = 0\n",
    "    \n",
    "    for row in dataset:\n",
    "        total += 1\n",
    "        value = row[index]\n",
    "        if value in table:\n",
    "            table[value] += 1\n",
    "        else:\n",
    "            table[value] = 1\n",
    "            \n",
    "    table_percentages={}\n",
    "    for key in table:\n",
    "        percentage = (table[key] / total) * 100\n",
    "        table_percentages[key] = percentage\n",
    "        \n",
    "    return table_percentages\n",
    "\n",
    "def display_table(dataset,index):\n",
    "    table = freq_table(dataset, index)\n",
    "    table_display = []\n",
    "    for key in table:\n",
    "        keyval_tuple = (table[key], key)\n",
    "        table_display.append(keyval_tuple)\n",
    "        \n",
    "    table_sorted = sorted(table_display, reverse = True)\n",
    "    for entry in table_sorted:\n",
    "        print(entry[1], ':', entry[0])\n",
    "    "
   ]
  },
  {
   "cell_type": "markdown",
   "metadata": {},
   "source": [
    "Let's start with the `prime_genre` in the iOS Apple Store:"
   ]
  },
  {
   "cell_type": "code",
   "execution_count": 54,
   "metadata": {},
   "outputs": [
    {
     "name": "stdout",
     "output_type": "stream",
     "text": [
      "Games : 58.16263190564867\n",
      "Entertainment : 7.883302296710118\n",
      "Photo & Video : 4.9658597144630665\n",
      "Education : 3.662321539416512\n",
      "Social Networking : 3.2898820608317814\n",
      "Shopping : 2.60707635009311\n",
      "Utilities : 2.5139664804469275\n",
      "Sports : 2.1415270018621975\n",
      "Music : 2.0484171322160147\n",
      "Health & Fitness : 2.0173805090006205\n",
      "Productivity : 1.7380509000620732\n",
      "Lifestyle : 1.5828677839851024\n",
      "News : 1.3345747982619491\n",
      "Travel : 1.2414649286157666\n",
      "Finance : 1.1173184357541899\n",
      "Weather : 0.8690254500310366\n",
      "Food & Drink : 0.8069522036002483\n",
      "Reference : 0.5586592178770949\n",
      "Business : 0.5276225946617008\n",
      "Book : 0.4345127250155183\n",
      "Navigation : 0.186219739292365\n",
      "Medical : 0.186219739292365\n",
      "Catalogs : 0.12414649286157665\n"
     ]
    }
   ],
   "source": [
    "display_table(ios_final,12)"
   ]
  },
  {
   "cell_type": "markdown",
   "metadata": {},
   "source": [
    "We can see that most English speaking apps are Games, which consume over half of the market at 58%.  Next are entertainment with 8%, followed by Photo/Video at 5%.  The next two genres are make up about 3% each of the market: Education and Social Networking.  \n",
    "\n",
    "This tells us that most of the English apps created for the iOS Apple Store are for entertainment (Games, Entertainment, Photo/Video, Social Networking, Shopping, Sports, and Music).  Apps designed for practical activities like Education, utilities, Health & Fitness, Lifestyle, and News are more rare.  But, just because they occur more frequently, doesn't make them more popular to download.  The demand may be different than the offer.\n",
    "\n",
    "Now let's examine the Google Play store at their `Genres` and `Categories`."
   ]
  },
  {
   "cell_type": "code",
   "execution_count": 55,
   "metadata": {},
   "outputs": [
    {
     "name": "stdout",
     "output_type": "stream",
     "text": [
      "FAMILY : 18.907942238267147\n",
      "GAME : 9.724729241877256\n",
      "TOOLS : 8.461191335740072\n",
      "BUSINESS : 4.591606498194946\n",
      "LIFESTYLE : 3.9034296028880866\n",
      "PRODUCTIVITY : 3.892148014440433\n",
      "FINANCE : 3.7003610108303246\n",
      "MEDICAL : 3.531137184115524\n",
      "SPORTS : 3.395758122743682\n",
      "PERSONALIZATION : 3.3167870036101084\n",
      "COMMUNICATION : 3.2378158844765346\n",
      "HEALTH_AND_FITNESS : 3.0798736462093865\n",
      "PHOTOGRAPHY : 2.944494584837545\n",
      "NEWS_AND_MAGAZINES : 2.7978339350180503\n",
      "SOCIAL : 2.6624548736462095\n",
      "TRAVEL_AND_LOCAL : 2.33528880866426\n",
      "SHOPPING : 2.2450361010830324\n",
      "BOOKS_AND_REFERENCE : 2.1435018050541514\n",
      "DATING : 1.861462093862816\n",
      "VIDEO_PLAYERS : 1.7937725631768955\n",
      "MAPS_AND_NAVIGATION : 1.3989169675090252\n",
      "FOOD_AND_DRINK : 1.2409747292418771\n",
      "EDUCATION : 1.1620036101083033\n",
      "ENTERTAINMENT : 0.9589350180505415\n",
      "LIBRARIES_AND_DEMO : 0.9363718411552346\n",
      "AUTO_AND_VEHICLES : 0.9250902527075812\n",
      "HOUSE_AND_HOME : 0.8235559566787004\n",
      "WEATHER : 0.8009927797833934\n",
      "EVENTS : 0.7107400722021661\n",
      "PARENTING : 0.6543321299638989\n",
      "ART_AND_DESIGN : 0.6430505415162455\n",
      "COMICS : 0.6204873646209386\n",
      "BEAUTY : 0.5979241877256317\n"
     ]
    }
   ],
   "source": [
    "display_table(android_final,1) #Category"
   ]
  },
  {
   "cell_type": "markdown",
   "metadata": {},
   "source": [
    "We can see a different picture emerges in the Google Play store.  There are far more practical apps designed for use on Android.  This is also confirmed under the `Genres` category:"
   ]
  },
  {
   "cell_type": "code",
   "execution_count": 56,
   "metadata": {},
   "outputs": [
    {
     "name": "stdout",
     "output_type": "stream",
     "text": [
      "Tools : 8.449909747292418\n",
      "Entertainment : 6.069494584837545\n",
      "Education : 5.347472924187725\n",
      "Business : 4.591606498194946\n",
      "Productivity : 3.892148014440433\n",
      "Lifestyle : 3.892148014440433\n",
      "Finance : 3.7003610108303246\n",
      "Medical : 3.531137184115524\n",
      "Sports : 3.463447653429603\n",
      "Personalization : 3.3167870036101084\n",
      "Communication : 3.2378158844765346\n",
      "Action : 3.1024368231046933\n",
      "Health & Fitness : 3.0798736462093865\n",
      "Photography : 2.944494584837545\n",
      "News & Magazines : 2.7978339350180503\n",
      "Social : 2.6624548736462095\n",
      "Travel & Local : 2.3240072202166067\n",
      "Shopping : 2.2450361010830324\n",
      "Books & Reference : 2.1435018050541514\n",
      "Simulation : 2.0419675090252705\n",
      "Dating : 1.861462093862816\n",
      "Arcade : 1.8501805054151623\n",
      "Video Players & Editors : 1.7712093862815883\n",
      "Casual : 1.7599277978339352\n",
      "Maps & Navigation : 1.3989169675090252\n",
      "Food & Drink : 1.2409747292418771\n",
      "Puzzle : 1.128158844765343\n",
      "Racing : 0.9927797833935018\n",
      "Role Playing : 0.9363718411552346\n",
      "Libraries & Demo : 0.9363718411552346\n",
      "Auto & Vehicles : 0.9250902527075812\n",
      "Strategy : 0.9138086642599278\n",
      "House & Home : 0.8235559566787004\n",
      "Weather : 0.8009927797833934\n",
      "Events : 0.7107400722021661\n",
      "Adventure : 0.6768953068592057\n",
      "Comics : 0.6092057761732852\n",
      "Beauty : 0.5979241877256317\n",
      "Art & Design : 0.5979241877256317\n",
      "Parenting : 0.4963898916967509\n",
      "Card : 0.45126353790613716\n",
      "Casino : 0.42870036101083037\n",
      "Trivia : 0.41741877256317694\n",
      "Educational;Education : 0.39485559566787\n",
      "Board : 0.3835740072202166\n",
      "Educational : 0.3722924187725632\n",
      "Education;Education : 0.33844765342960287\n",
      "Word : 0.2594765342960289\n",
      "Casual;Pretend Play : 0.236913357400722\n",
      "Music : 0.2030685920577617\n",
      "Racing;Action & Adventure : 0.16922382671480143\n",
      "Puzzle;Brain Games : 0.16922382671480143\n",
      "Entertainment;Music & Video : 0.16922382671480143\n",
      "Casual;Brain Games : 0.13537906137184114\n",
      "Casual;Action & Adventure : 0.13537906137184114\n",
      "Arcade;Action & Adventure : 0.12409747292418773\n",
      "Action;Action & Adventure : 0.10153429602888085\n",
      "Educational;Pretend Play : 0.09025270758122744\n",
      "Simulation;Action & Adventure : 0.078971119133574\n",
      "Parenting;Education : 0.078971119133574\n",
      "Entertainment;Brain Games : 0.078971119133574\n",
      "Board;Brain Games : 0.078971119133574\n",
      "Parenting;Music & Video : 0.06768953068592057\n",
      "Educational;Brain Games : 0.06768953068592057\n",
      "Casual;Creativity : 0.06768953068592057\n",
      "Art & Design;Creativity : 0.06768953068592057\n",
      "Education;Pretend Play : 0.056407942238267145\n",
      "Role Playing;Pretend Play : 0.04512635379061372\n",
      "Education;Creativity : 0.04512635379061372\n",
      "Role Playing;Action & Adventure : 0.033844765342960284\n",
      "Puzzle;Action & Adventure : 0.033844765342960284\n",
      "Entertainment;Creativity : 0.033844765342960284\n",
      "Entertainment;Action & Adventure : 0.033844765342960284\n",
      "Educational;Creativity : 0.033844765342960284\n",
      "Educational;Action & Adventure : 0.033844765342960284\n",
      "Education;Music & Video : 0.033844765342960284\n",
      "Education;Brain Games : 0.033844765342960284\n",
      "Education;Action & Adventure : 0.033844765342960284\n",
      "Adventure;Action & Adventure : 0.033844765342960284\n",
      "Video Players & Editors;Music & Video : 0.02256317689530686\n",
      "Sports;Action & Adventure : 0.02256317689530686\n",
      "Simulation;Pretend Play : 0.02256317689530686\n",
      "Puzzle;Creativity : 0.02256317689530686\n",
      "Music;Music & Video : 0.02256317689530686\n",
      "Entertainment;Pretend Play : 0.02256317689530686\n",
      "Casual;Education : 0.02256317689530686\n",
      "Board;Action & Adventure : 0.02256317689530686\n",
      "Video Players & Editors;Creativity : 0.01128158844765343\n",
      "Trivia;Education : 0.01128158844765343\n",
      "Travel & Local;Action & Adventure : 0.01128158844765343\n",
      "Tools;Education : 0.01128158844765343\n",
      "Strategy;Education : 0.01128158844765343\n",
      "Strategy;Creativity : 0.01128158844765343\n",
      "Strategy;Action & Adventure : 0.01128158844765343\n",
      "Simulation;Education : 0.01128158844765343\n",
      "Role Playing;Brain Games : 0.01128158844765343\n",
      "Racing;Pretend Play : 0.01128158844765343\n",
      "Puzzle;Education : 0.01128158844765343\n",
      "Parenting;Brain Games : 0.01128158844765343\n",
      "Music & Audio;Music & Video : 0.01128158844765343\n",
      "Lifestyle;Pretend Play : 0.01128158844765343\n",
      "Lifestyle;Education : 0.01128158844765343\n",
      "Health & Fitness;Education : 0.01128158844765343\n",
      "Health & Fitness;Action & Adventure : 0.01128158844765343\n",
      "Entertainment;Education : 0.01128158844765343\n",
      "Communication;Creativity : 0.01128158844765343\n",
      "Comics;Creativity : 0.01128158844765343\n",
      "Casual;Music & Video : 0.01128158844765343\n",
      "Card;Action & Adventure : 0.01128158844765343\n",
      "Books & Reference;Education : 0.01128158844765343\n",
      "Art & Design;Pretend Play : 0.01128158844765343\n",
      "Art & Design;Action & Adventure : 0.01128158844765343\n",
      "Arcade;Pretend Play : 0.01128158844765343\n",
      "Adventure;Education : 0.01128158844765343\n"
     ]
    }
   ],
   "source": [
    "display_table(android_final,9) #Genres"
   ]
  },
  {
   "cell_type": "markdown",
   "metadata": {},
   "source": [
    "We aren't sure what the relationship is between `Category` and `Genres`, but `Genres` seems more granular than what we need for our Analysis.  Therefore, we will only work with the `Category` column within the Google Play store.\n",
    "\n",
    "So far, our Analysis shows that more apps for fun have been designed for the iOS store, while there is a better balance of fun and productive apps designed for the Google Play store.\n",
    "\n",
    "Now let's compare what kind of apps have the most users."
   ]
  },
  {
   "cell_type": "markdown",
   "metadata": {},
   "source": [
    "# Most Popular Apps by Genre\n",
    "\n",
    "The method that we will use to find which apps are most popular is to calculate the average number of installs for each genre.  In the Google Play dataset, we can use the `Installs` column.  For the Apple store, we will use the `rating_count_tot`.\n",
    "\n",
    "We will start with the **iOS Apple** store:"
   ]
  },
  {
   "cell_type": "code",
   "execution_count": 62,
   "metadata": {},
   "outputs": [
    {
     "name": "stdout",
     "output_type": "stream",
     "text": [
      "Productivity : 21028.410714285714\n",
      "Weather : 52279.892857142855\n",
      "Shopping : 26919.690476190477\n",
      "Reference : 74942.11111111111\n",
      "Finance : 31467.944444444445\n",
      "Music : 57326.530303030304\n",
      "Utilities : 18684.456790123455\n",
      "Travel : 28243.8\n",
      "Social Networking : 71548.34905660378\n",
      "Sports : 23008.898550724636\n",
      "Health & Fitness : 23298.015384615384\n",
      "Games : 22788.6696905016\n",
      "Food & Drink : 33333.92307692308\n",
      "News : 21248.023255813954\n",
      "Book : 39758.5\n",
      "Photo & Video : 28441.54375\n",
      "Entertainment : 14029.830708661417\n",
      "Business : 7491.117647058823\n",
      "Lifestyle : 16485.764705882353\n",
      "Education : 7003.983050847458\n",
      "Navigation : 86090.33333333333\n",
      "Medical : 612.0\n",
      "Catalogs : 4004.0\n"
     ]
    }
   ],
   "source": [
    "ios_genre=freq_table(ios_final, 12)\n",
    "\n",
    "for genre in ios_genre:\n",
    "    total = 0 #the sum of user ratings\n",
    "    len_genre = 0 #the number of apps specific to ea genre\n",
    "    for app in ios_final:\n",
    "        genre_app = app[12]\n",
    "        if genre_app == genre:\n",
    "            n_ratings = float(app[6])\n",
    "            total += n_ratings\n",
    "            len_genre += 1\n",
    "\n",
    "    ios_avg_rating = total / len_genre\n",
    "    print(genre, ':', ios_avg_rating)"
   ]
  },
  {
   "cell_type": "markdown",
   "metadata": {},
   "source": [
    "At first glance the Navigation, Reference, Social Networking and Music genres seem to dominate the user approval rating.  But, once you drill down into those genres, we see that they are dominated by big user apps like Google Maps for Naviation, the Bible for Reference, Facebook for Social Networking and Spotify for Music.  "
   ]
  },
  {
   "cell_type": "code",
   "execution_count": 65,
   "metadata": {},
   "outputs": [
    {
     "name": "stdout",
     "output_type": "stream",
     "text": [
      "Waze - GPS Navigation, Maps & Real-time Traffic : 345046\n",
      "Geocaching® : 12811\n",
      "ImmobilienScout24: Real Estate Search in Germany : 187\n",
      "Railway Route Search : 5\n",
      "CoPilot GPS – Car Navigation & Offline Maps : 3582\n",
      "Google Maps - Navigation & Transit : 154911\n"
     ]
    }
   ],
   "source": [
    "for app in ios_final:\n",
    "    if app[12] == 'Navigation':\n",
    "        print(app[2],':',app[6])"
   ]
  },
  {
   "cell_type": "code",
   "execution_count": 67,
   "metadata": {},
   "outputs": [
    {
     "name": "stdout",
     "output_type": "stream",
     "text": [
      "Bible : 985920\n",
      "Dictionary.com Dictionary & Thesaurus : 200047\n",
      "Dictionary.com Dictionary & Thesaurus for iPad : 54175\n",
      "Muslim Pro: Ramadan 2017 Prayer Times, Azan, Quran : 18418\n",
      "Merriam-Webster Dictionary : 16849\n",
      "Google Translate : 26786\n",
      "Night Sky : 12122\n",
      "WWDC : 762\n",
      "Jishokun-Japanese English Dictionary & Translator : 0\n",
      "教えて!goo : 0\n",
      "VPN Express : 14\n",
      "New Furniture Mods - Pocket Wiki & Game Tools for Minecraft PC Edition : 17588\n",
      "LUCKY BLOCK MOD ™ for Minecraft PC Edition - The Best Pocket Wiki & Mods Installer Tools : 4693\n",
      "Guides for Pokémon GO - Pokemon GO News and Cheats : 826\n",
      "Horror Maps for Minecraft PE - Download The Scariest Maps for Minecraft Pocket Edition (MCPE) Free : 718\n",
      "City Maps for Minecraft PE - The Best Maps for Minecraft Pocket Edition (MCPE) : 8535\n",
      "GUNS MODS for Minecraft PC Edition - Mods Tools : 1497\n",
      "Real Bike Traffic Rider Virtual Reality Glasses : 8\n"
     ]
    }
   ],
   "source": [
    "for app in ios_final:\n",
    "    if app[12] == 'Reference':\n",
    "        print(app[2],':',app[6])"
   ]
  },
  {
   "cell_type": "code",
   "execution_count": 68,
   "metadata": {},
   "outputs": [
    {
     "name": "stdout",
     "output_type": "stream",
     "text": [
      "Facebook : 2974676\n",
      "LinkedIn : 71856\n",
      "Skype for iPhone : 373519\n",
      "Tumblr : 334293\n",
      "Match™ - #1 Dating App. : 60659\n",
      "WhatsApp Messenger : 287589\n",
      "TextNow - Unlimited Text + Calls : 164963\n",
      "Grindr - Gay and same sex guys chat, meet and date : 23201\n",
      "imo video calls and chat : 18841\n",
      "Ameba : 269\n",
      "Weibo : 7265\n",
      "Badoo - Meet New People, Chat, Socialize. : 34428\n",
      "Kik : 260965\n",
      "Qzone : 1649\n",
      "Fake-A-Location Free ™ : 354\n",
      "Tango - Free Video Call, Voice and Chat : 75412\n",
      "MeetMe - Chat and Meet New People : 97072\n",
      "SimSimi : 23530\n",
      "Viber Messenger – Text & Call : 164249\n",
      "Find My Family, Friends & iPhone - Life360 Locator : 43877\n",
      "Weibo HD : 16772\n",
      "POF - Best Dating App for Conversations : 52642\n",
      "GroupMe : 28260\n",
      "Lobi : 36\n",
      "WeChat : 34584\n",
      "ooVoo – Free Video Call, Text and Voice : 177501\n",
      "Pinterest : 1061624\n",
      "知乎 : 397\n",
      "Qzone HD : 458\n",
      "Skype for iPad : 60163\n",
      "LINE : 11437\n",
      "QQ : 9109\n",
      "LOVOO - Dating Chat : 1985\n",
      "QQ HD : 5058\n",
      "Messenger : 351466\n",
      "eHarmony™ Dating App - Meet Singles : 11124\n",
      "YouNow: Live Stream Video Chat : 12079\n",
      "Cougar Dating & Life Style App for Mature Women : 213\n",
      "Battlefield™ Companion : 689\n",
      "Whisper - Share, Express, Meet : 39819\n",
      "We Heart It - Fashion, wallpapers, quotes, tattoos : 90414\n",
      "Followers - Social Analytics For Instagram : 112778\n",
      "InsTrack for Instagram - Analytics Plus More : 85535\n",
      "Followers + for Instagram - Follower Analytics : 28633\n",
      "Timehop : 49510\n",
      "Repost for Instagram : 15185\n",
      "LINE PLAY - Your Avatar World : 34677\n",
      "Nextdoor : 14402\n",
      "Hangouts : 36404\n",
      "FollowMeter for Instagram - Followers Tracking : 11976\n",
      "Telegram Messenger : 7573\n",
      "Chatous - Chat with new people : 1609\n",
      "QQ International : 274\n",
      "FireChat : 1037\n",
      "Jodel : 1193\n",
      "Wishbone - Compare Anything : 20649\n",
      "Zenly - Locate your friends in realtime : 427\n",
      "Tantan : 235\n",
      "Flinch - Video Chat Staring Contest : 2134\n",
      "botman - Real time video chat : 7\n",
      "豆瓣 : 407\n",
      "Marco Polo Video Walkie Talkie : 27662\n",
      "After School - Funny Anonymous School News : 18482\n",
      "Highrise - Your Avatar Community : 2011\n",
      "Quick Reposter - Repost, Regram and Reshare Photos : 17694\n",
      "Kiwi - Q&A : 1538\n",
      "Periscope - Live Video Streaming Around the World : 6062\n",
      "Inke—Broadcast an amazing life : 147\n",
      "Discord - Chat for Gamers : 9152\n",
      "Candid - Speak Your Mind Freely : 398\n",
      "Down To Lunch : 2535\n",
      "SOMA Messenger : 3232\n",
      "Rawr Messenger - Dab your chat : 180\n",
      "Popcorn Buzz - Free Group Calls : 281\n",
      "Chain: Collaborate On MyVideo Story/Group Video : 35\n",
      "BestieBox : 0\n",
      "Selfeo : 366\n",
      "Followers Analysis Tool For Instagram App Free : 4253\n",
      "Hey! VINA - Where Women Meet New Friends : 719\n",
      "PlayStation®Messages : 1918\n",
      "WhenToPost: Best Time to Post Photos for Instagram : 158\n",
      "MATCH ON LINE chat : 0\n",
      "Fiesta by Tango - Chat & Meet New People : 885\n",
      "Houseparty - Group Video Chat : 3991\n",
      "All Devices for WhatsApp - Messenger for iPad : 682\n",
      "Peach — share vividly : 727\n",
      "bit-tube - Live Stream Video Chat : 0\n",
      "Miitomo : 23965\n",
      "SoundCloud Pulse: for creators : 240\n",
      "IAmNaughty – Dating App to Meet New People Online : 463\n",
      "League of Legends Friends : 420\n",
      "GhostCodes - a discovery app for Snapchat : 1313\n",
      "live.ly - live video streaming : 4145\n",
      "Live.me – Live Video Chat & Make Friends Nearby : 14724\n",
      "BOO! - Video chat camera with filters & stickers : 1805\n",
      "Google Allo — smart messaging : 862\n",
      "Google Duo - simple video calling : 1033\n",
      "Chat for Whatsapp - iPad Version : 5060\n",
      "Chat for Pokemon Go - GoChat : 500\n",
      "niconico ch : 0\n",
      "Followers Analytics for Instagram - InstaReport : 13914\n",
      "Monkey : 3060\n",
      "LINE BLOG : 0\n",
      "Mustknow - anonymous video Q&A : 53\n",
      "CTFxCmoji : 39\n",
      "Fam — Group video calling for iMessage : 279\n"
     ]
    }
   ],
   "source": [
    "for app in ios_final:\n",
    "    if app[12] == 'Social Networking':\n",
    "        print(app[2],':',app[6])"
   ]
  },
  {
   "cell_type": "code",
   "execution_count": 69,
   "metadata": {},
   "outputs": [
    {
     "name": "stdout",
     "output_type": "stream",
     "text": [
      "Pandora - Music & Radio : 1126879\n",
      "Shazam - Discover music, artists, videos & lyrics : 402925\n",
      "iHeartRadio – Free Music & Radio Stations : 293228\n",
      "Deezer - Listen to your Favorite Music & Playlists : 4677\n",
      "Sonos Controller : 48905\n",
      "NRJ Radio : 38\n",
      "radio.de - Der Radioplayer : 64\n",
      "Spotify Music : 878563\n",
      "SoundCloud - Music & Audio : 135744\n",
      "Sing Karaoke Songs Unlimited with StarMaker : 26227\n",
      "SoundHound Song Search & Music Player : 82602\n",
      "Ringtones for iPhone & Ringtone Maker : 25403\n",
      "Coach Guitar - Lessons & Easy Tabs For Beginners : 2416\n",
      "TuneIn Radio - MLB NBA Audiobooks Podcasts Music : 110420\n",
      "Magic Piano by Smule : 131695\n",
      "QQ音乐HD : 224\n",
      "The Singing Machine Mobile Karaoke App : 130\n",
      "Bandsintown Concerts : 30845\n",
      "PetitLyrics : 0\n",
      "edjing Mix:DJ turntable to remix and scratch music : 13580\n",
      "Smule Sing! : 119316\n",
      "Amazon Music : 106235\n",
      "AutoRap by Smule : 18202\n",
      "My Mixtapez Music : 26286\n",
      "Certified Mixtapes - Hip Hop Albums & Mixtapes : 9975\n",
      "Karaoke - Sing Karaoke, Unlimited Songs! : 28606\n",
      "Napster - Top Music & Radio : 14268\n",
      "Musi - Unlimited Music For YouTube : 25193\n",
      "UE BOOM : 612\n",
      "Spinrilla - Mixtapes For Free : 15053\n",
      "Google Play Music : 10118\n",
      "Piano - Play Keyboard Music Games with Magic Tiles : 1636\n",
      "Bose SoundTouch : 3687\n",
      "DatPiff : 2815\n",
      "Sounds app - Music And Friends : 5126\n",
      "Smart Music: Streaming Videos and Radio : 17\n",
      "Free Piano app by Yokee : 13016\n",
      "Simple Radio - Live AM & FM Radio Stations : 4787\n",
      "Trebel Music - Unlimited Music Downloader : 2570\n",
      "TIDAL : 7398\n",
      "Acapella from PicPlayPost : 2487\n",
      "Medly - Music Maker : 933\n",
      "Amazon Alexa : 3018\n",
      "Music Freedom - Unlimited Free MP3 Music Streaming : 1246\n",
      "PlayGround • Music At Your Fingertips : 150\n",
      "Musical Video Maker - Create Music clips lip sync : 320\n",
      "Free Music Play - Mp3 Streamer & Player : 2496\n",
      "LiveMixtapes : 555\n",
      "AmpMe - A Portable Social Party Music Speaker : 1047\n",
      "NOISE : 355\n",
      "YouTube Music : 7109\n",
      "Ringtones for iPhone with Ringtone Maker : 4013\n",
      "Music Memos : 909\n",
      "Musicloud - MP3 and FLAC Music Player for Cloud Platforms. : 2211\n",
      "Bose Connect : 915\n",
      "Cloud Music Player - Downloader & Playlist Manager : 319\n",
      "Remixlive - Remix loops with pads : 288\n",
      "Free Music -  Player & Streamer  for Dropbox, OneDrive & Google Drive : 46\n",
      "Boom: Best Equalizer & Magical Surround Sound : 1375\n",
      "MP3 Music Player & Streamer for Clouds : 329\n",
      "Nicki Minaj: The Empire : 5196\n",
      "SongFlip - Free Music Streamer : 5004\n",
      "Blocs Wave - Make & Record Music : 158\n",
      "Music and Chill : 135\n",
      "Free Music - MP3 Streamer & Playlist Manager Pro : 13443\n",
      "BOSS Tuner : 13\n"
     ]
    }
   ],
   "source": [
    "for app in ios_final:\n",
    "    if app[12] == 'Music':\n",
    "        print(app[2],':',app[6])"
   ]
  },
  {
   "cell_type": "markdown",
   "metadata": {},
   "source": [
    "What is recommended is to bundle some less popular app genres with each other.  Examples are:\n",
    "\n",
    "- Combine a travel app with a weather features like storm tracking, current weather, forecasts, etc.\n",
    "- Interactive books on food, drink or finance.\n",
    "- A health & fitness app that spotlights music.\n",
    "- A utility app that makes a game out of finishing tasks, paying bills, etc.\n",
    "\n",
    "Since the iOS app store is dominated with for fun apps, it might stand out to create a productivity app that bundles a for-fun feature.  Adding a fun feature may increase the chances that a user will continue to stay in a productivity app longer so we can offer more in-app purchases opportunities.\n",
    "\n",
    "Next, we will explore apps by genre in the **Google Play** store:"
   ]
  },
  {
   "cell_type": "code",
   "execution_count": 71,
   "metadata": {
    "scrolled": true
   },
   "outputs": [
    {
     "name": "stdout",
     "output_type": "stream",
     "text": [
      "1,000,000+ : 15.726534296028879\n",
      "100,000+ : 11.552346570397113\n",
      "10,000,000+ : 10.548285198555957\n",
      "10,000+ : 10.198555956678701\n",
      "1,000+ : 8.393501805054152\n",
      "100+ : 6.915613718411552\n",
      "5,000,000+ : 6.825361010830325\n",
      "500,000+ : 5.561823104693141\n",
      "50,000+ : 4.7721119133574\n",
      "5,000+ : 4.512635379061372\n",
      "10+ : 3.5424187725631766\n",
      "500+ : 3.2490974729241873\n",
      "50,000,000+ : 2.3014440433213\n",
      "100,000,000+ : 2.1322202166064983\n",
      "50+ : 1.917870036101083\n",
      "5+ : 0.78971119133574\n",
      "1+ : 0.5076714801444043\n",
      "500,000,000+ : 0.2707581227436823\n",
      "1,000,000,000+ : 0.22563176895306858\n",
      "0+ : 0.04512635379061372\n",
      "0 : 0.01128158844765343\n"
     ]
    }
   ],
   "source": [
    "display_table(android_final,5) #no. of Installs"
   ]
  },
  {
   "cell_type": "markdown",
   "metadata": {},
   "source": [
    "This output places installs into groupings.  In other words, we don't know the precise number of installs for an app.  Instead it tells us that if an app has been downloaded over 1,000 times but less than 10,000 will be counted in the 1,000+ count.  \n",
    "\n",
    "In order to do a comparison with the categories, we will need to convert these groupings into a float.  So, the app that was counted in the 1,000+ group will be defaulted to 1,000 installs.  We will also need to remove the commas and plus signs otherwise it will not be able to do a float conversion.  We will end the loop by calculating the average number of installs for each category."
   ]
  },
  {
   "cell_type": "code",
   "execution_count": 73,
   "metadata": {},
   "outputs": [
    {
     "name": "stdout",
     "output_type": "stream",
     "text": [
      "ART_AND_DESIGN : 1986335.0877192982\n",
      "AUTO_AND_VEHICLES : 647317.8170731707\n",
      "BEAUTY : 513151.88679245283\n",
      "BOOKS_AND_REFERENCE : 8767811.894736841\n",
      "BUSINESS : 1712290.1474201474\n",
      "COMICS : 817657.2727272727\n",
      "COMMUNICATION : 38456119.167247385\n",
      "DATING : 854028.8303030303\n",
      "EDUCATION : 1833495.145631068\n",
      "ENTERTAINMENT : 11640705.88235294\n",
      "EVENTS : 253542.22222222222\n",
      "FINANCE : 1387692.475609756\n",
      "FOOD_AND_DRINK : 1924897.7363636363\n",
      "HEALTH_AND_FITNESS : 4188821.9853479853\n",
      "HOUSE_AND_HOME : 1331540.5616438356\n",
      "LIBRARIES_AND_DEMO : 638503.734939759\n",
      "LIFESTYLE : 1437816.2687861272\n",
      "GAME : 15588015.603248259\n",
      "FAMILY : 3695641.8198090694\n",
      "MEDICAL : 120550.61980830671\n",
      "SOCIAL : 23253652.127118643\n",
      "SHOPPING : 7036877.311557789\n",
      "PHOTOGRAPHY : 17840110.40229885\n",
      "SPORTS : 3638640.1428571427\n",
      "TRAVEL_AND_LOCAL : 13984077.710144928\n",
      "TOOLS : 10801391.298666667\n",
      "PERSONALIZATION : 5201482.6122448975\n",
      "PRODUCTIVITY : 16787331.344927534\n",
      "PARENTING : 542603.6206896552\n",
      "WEATHER : 5074486.197183099\n",
      "VIDEO_PLAYERS : 24727872.452830188\n",
      "NEWS_AND_MAGAZINES : 9549178.467741935\n",
      "MAPS_AND_NAVIGATION : 4056941.7741935486\n"
     ]
    }
   ],
   "source": [
    "cat_android = freq_table(android_final,1)\n",
    "\n",
    "for cat in cat_android:\n",
    "    total = 0 #the sum of user ratings\n",
    "    len_category = 0 #the number of apps specific to ea category\n",
    "    for app in android_final:\n",
    "        cat_app = app[1]\n",
    "        if cat_app == cat:\n",
    "            n_installs = app[5]\n",
    "            n_installs = n_installs.replace(',','')\n",
    "            n_installs = n_installs.replace('+','')\n",
    "            total += float(n_installs)\n",
    "            len_category += 1\n",
    "    avg_and_installs = total/len_category\n",
    "    print(cat,':',avg_and_installs)"
   ]
  },
  {
   "cell_type": "markdown",
   "metadata": {},
   "source": [
    "As with the Apple App store, we have a few big game players that dominate groups of largest installs of over 100 or 500 million installs."
   ]
  },
  {
   "cell_type": "code",
   "execution_count": 76,
   "metadata": {},
   "outputs": [
    {
     "name": "stdout",
     "output_type": "stream",
     "text": [
      "WhatsApp Messenger : 1,000,000,000+\n",
      "imo beta free calls and text : 100,000,000+\n",
      "Android Messages : 100,000,000+\n",
      "Messenger – Text and Video Chat for Free : 1,000,000,000+\n",
      "Skype - free IM & video calls : 1,000,000,000+\n",
      "Who : 100,000,000+\n",
      "GO SMS Pro - Messenger, Free Themes, Emoji : 100,000,000+\n",
      "Google Chrome: Fast & Secure : 1,000,000,000+\n",
      "Firefox Browser fast & private : 100,000,000+\n",
      "Gmail : 1,000,000,000+\n",
      "Hangouts : 1,000,000,000+\n",
      "Messenger Lite: Free Calls & Messages : 100,000,000+\n",
      "Kik : 100,000,000+\n",
      "KakaoTalk: Free Calls & Text : 100,000,000+\n",
      "Opera Mini - fast web browser : 100,000,000+\n",
      "Opera Browser: Fast and Secure : 100,000,000+\n",
      "Telegram : 100,000,000+\n",
      "Truecaller: Caller ID, SMS spam blocking & Dialer : 100,000,000+\n",
      "UC Browser Mini -Tiny Fast Private & Secure : 100,000,000+\n",
      "WeChat : 100,000,000+\n",
      "Yahoo Mail – Stay Organized : 100,000,000+\n",
      "BBM - Free Calls & Messages : 100,000,000+\n"
     ]
    }
   ],
   "source": [
    "for app in android_final:\n",
    "    if app[1] == 'COMMUNICATION' and (app[5] =='1,000,000,000+' or app[5]=='5,000,000,000+' or app[5]=='100,000,000+'):\n",
    "        print(app[0],':',app[5])"
   ]
  },
  {
   "cell_type": "markdown",
   "metadata": {},
   "source": [
    "These large download apps like \"WhatsApp\", \"Yahoo Mail\", \"Android Messages\", or \"Firefox Browser\" make communications apps seem more popular than they actually are.  But, if we look at the categories that were recommended in our Apple app store analysis, we can find some areas that are also popular in the Android market as well.  One example is the `Books and Reference` category.  In the Apple app store, these came up as Books = 39,758.50 and Reference = 74,942.11.  Drilling down into the Android market we see the big game players are:"
   ]
  },
  {
   "cell_type": "code",
   "execution_count": 79,
   "metadata": {},
   "outputs": [
    {
     "name": "stdout",
     "output_type": "stream",
     "text": [
      "Google Play Books : 1,000,000,000+\n",
      "Bible : 100,000,000+\n",
      "Amazon Kindle : 100,000,000+\n",
      "Wattpad 📖 Free Books : 100,000,000+\n",
      "Audiobooks from Audible : 100,000,000+\n"
     ]
    }
   ],
   "source": [
    "for app in android_final:\n",
    "    if app[1]=='BOOKS_AND_REFERENCE' and (app[5]=='1,000,000,000+' or app[5]=='5,000,000,000+' or app[5]=='100,000,000+'):\n",
    "        print(app[0],':',app[5])"
   ]
  },
  {
   "cell_type": "markdown",
   "metadata": {},
   "source": [
    "We can see even though this is a big download category, there aren't alot of big players dominating the genre.  "
   ]
  },
  {
   "cell_type": "markdown",
   "metadata": {},
   "source": [
    "# Conclusions\n",
    "\n",
    "In this project, we analyzed data about the App Store and Google Play mobile apps with the goal of recommending an app profile that can be profitable for both markets.\n",
    "\n",
    "Therefore, out of our intial suggestions, an interactive book on food, drink or finance may be a suitable app to develop that will do well in both markets.  This app could include current authors writing short articles.  And in those articles there could be links to the food, drink or finance mentioned.  As well as a social community where people can interact with other users, community experts or the author themself.  This social aspect plays well into both the communication and social networking that is popular in both markets.  It also gives us plenty of opportunity to offer in-app purchases, whereas we can share profits with vendors, the authors and community experts."
   ]
  }
 ],
 "metadata": {
  "kernelspec": {
   "display_name": "Python 3",
   "language": "python",
   "name": "python3"
  },
  "language_info": {
   "codemirror_mode": {
    "name": "ipython",
    "version": 3
   },
   "file_extension": ".py",
   "mimetype": "text/x-python",
   "name": "python",
   "nbconvert_exporter": "python",
   "pygments_lexer": "ipython3",
   "version": "3.7.3"
  }
 },
 "nbformat": 4,
 "nbformat_minor": 2
}
